{
 "cells": [
  {
   "cell_type": "markdown",
   "id": "5d3bc9d5-a4c5-4def-b6df-fb0b704f7f47",
   "metadata": {},
   "source": [
    "#H1:Data Science Tools and Ecosystem\n"
   ]
  },
  {
   "cell_type": "markdown",
   "id": "e111a29a-7fd8-4d65-969a-004c760cf4f6",
   "metadata": {},
   "source": [
    "# H1:Data Science Tools and Ecosystem"
   ]
  },
  {
   "cell_type": "markdown",
   "id": "a905a9b3-808b-43a1-a679-4a96a9b9f587",
   "metadata": {},
   "source": [
    "# Data Science Tools and Ecosystem"
   ]
  },
  {
   "cell_type": "markdown",
   "id": "380f7a8a-9bd2-4d62-8803-78fc2ae6b881",
   "metadata": {},
   "source": [
    "# Data Science Tools and Ecosystem"
   ]
  },
  {
   "cell_type": "markdown",
   "id": "b3db915d-fd51-4226-a32b-584119604ad8",
   "metadata": {},
   "source": [
    "In this notebook, Data Science Tools and Ecosystem are summarized."
   ]
  },
  {
   "cell_type": "markdown",
   "id": "d18edc29-7805-45a6-a08a-1da2b8e541da",
   "metadata": {},
   "source": [
    "Some of the popular languages that Data Scientists use are:\n",
    "1. Python\n",
    "2. R\n",
    "3. C++"
   ]
  },
  {
   "cell_type": "markdown",
   "id": "2478faac-6b6f-47b2-8db2-5893a86c8379",
   "metadata": {},
   "source": [
    "Some of the commonly used libraries used by Data Scientists include:\n",
    "1. NumPy\n",
    "2. SciPy\n",
    "3. Pandas"
   ]
  },
  {
   "cell_type": "markdown",
   "id": "0d8a23a9-6ba9-4440-ae3c-2d17d255185b",
   "metadata": {},
   "source": [
    "|Data Science Tools|\n",
    "------------------\n",
    "| Jupyter Notebook |\n",
    "| RStudio |\n",
    "| DataLab |"
   ]
  },
  {
   "cell_type": "markdown",
   "id": "43818a78-7c0f-442b-9819-1639847cc97a",
   "metadata": {},
   "source": [
    "### Below are a few examples of evaluating arithmetic expressions in Python"
   ]
  },
  {
   "cell_type": "code",
   "execution_count": 34,
   "id": "e07c7954-8835-4f9c-8cd7-b96efe385bbb",
   "metadata": {},
   "outputs": [
    {
     "data": {
      "text/plain": [
       "17"
      ]
     },
     "execution_count": 34,
     "metadata": {},
     "output_type": "execute_result"
    }
   ],
   "source": [
    "#This a simple arithmetic expression to mutiply then add integers\n",
    "(3*4)+5"
   ]
  },
  {
   "cell_type": "code",
   "execution_count": 36,
   "id": "4a34261b-8baa-4568-99fe-48d10cb5e8e5",
   "metadata": {},
   "outputs": [
    {
     "data": {
      "text/plain": [
       "3.3333333333333335"
      ]
     },
     "execution_count": 36,
     "metadata": {},
     "output_type": "execute_result"
    }
   ],
   "source": [
    "#This will convert 200 minutes to hours by dividing by 60\n",
    "200/60"
   ]
  },
  {
   "cell_type": "markdown",
   "id": "1b45a3a5-1b48-4201-b042-313cd877639c",
   "metadata": {},
   "source": [
    "**Objectives:**\n",
    "- libraries used by Data Scientists\n",
    "- Data Science Tools\n",
    "- languages that Data Scientists use"
   ]
  },
  {
   "cell_type": "markdown",
   "id": "e56ceefa-330e-43d6-8988-84e1bee8cc1e",
   "metadata": {},
   "source": [
    "## Author\n",
    "Sergio Eidelman"
   ]
  }
 ],
 "metadata": {
  "kernelspec": {
   "display_name": "Python 3 (ipykernel)",
   "language": "python",
   "name": "python3"
  },
  "language_info": {
   "codemirror_mode": {
    "name": "ipython",
    "version": 3
   },
   "file_extension": ".py",
   "mimetype": "text/x-python",
   "name": "python",
   "nbconvert_exporter": "python",
   "pygments_lexer": "ipython3",
   "version": "3.12.4"
  }
 },
 "nbformat": 4,
 "nbformat_minor": 5
}
